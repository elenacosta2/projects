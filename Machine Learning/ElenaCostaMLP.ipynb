{
 "cells": [
  {
   "cell_type": "markdown",
   "id": "0e4190fc",
   "metadata": {},
   "source": [
    "# Progetto Machine Learning - Wine Dataset"
   ]
  },
  {
   "cell_type": "code",
   "execution_count": 7,
   "id": "2008bae5",
   "metadata": {},
   "outputs": [],
   "source": [
    "# load libraries\n",
    "import numpy as np\n",
    "from sklearn.datasets import load_wine\n",
    "from sklearn.model_selection import train_test_split\n",
    "from sklearn.ensemble import RandomForestClassifier\n",
    "from sklearn import metrics\n",
    "from sklearn.model_selection import GridSearchCV\n",
    "from sklearn.metrics import ConfusionMatrixDisplay"
   ]
  },
  {
   "cell_type": "code",
   "execution_count": 8,
   "id": "2646ca15",
   "metadata": {},
   "outputs": [
    {
     "name": "stdout",
     "output_type": "stream",
     "text": [
      "(178, 13) (178,)\n"
     ]
    }
   ],
   "source": [
    "# load dataset\n",
    "wine = load_wine()\n",
    "\n",
    "# create data and target \n",
    "X, y = wine.data, wine.target\n",
    "\n",
    "print(X.shape, y.shape)"
   ]
  },
  {
   "cell_type": "code",
   "execution_count": 9,
   "id": "8eeafd1a",
   "metadata": {},
   "outputs": [
    {
     "name": "stdout",
     "output_type": "stream",
     "text": [
      ".. _wine_dataset:\n",
      "\n",
      "Wine recognition dataset\n",
      "------------------------\n",
      "\n",
      "**Data Set Characteristics:**\n",
      "\n",
      "    :Number of Instances: 178 (50 in each of three classes)\n",
      "    :Number of Attributes: 13 numeric, predictive attributes and the class\n",
      "    :Attribute Information:\n",
      " \t\t- Alcohol\n",
      " \t\t- Malic acid\n",
      " \t\t- Ash\n",
      "\t\t- Alcalinity of ash  \n",
      " \t\t- Magnesium\n",
      "\t\t- Total phenols\n",
      " \t\t- Flavanoids\n",
      " \t\t- Nonflavanoid phenols\n",
      " \t\t- Proanthocyanins\n",
      "\t\t- Color intensity\n",
      " \t\t- Hue\n",
      " \t\t- OD280/OD315 of diluted wines\n",
      " \t\t- Proline\n",
      "\n",
      "    - class:\n",
      "            - class_0\n",
      "            - class_1\n",
      "            - class_2\n",
      "\t\t\n",
      "    :Summary Statistics:\n",
      "    \n",
      "    ============================= ==== ===== ======= =====\n",
      "                                   Min   Max   Mean     SD\n",
      "    ============================= ==== ===== ======= =====\n",
      "    Alcohol:                      11.0  14.8    13.0   0.8\n",
      "    Malic Acid:                   0.74  5.80    2.34  1.12\n",
      "    Ash:                          1.36  3.23    2.36  0.27\n",
      "    Alcalinity of Ash:            10.6  30.0    19.5   3.3\n",
      "    Magnesium:                    70.0 162.0    99.7  14.3\n",
      "    Total Phenols:                0.98  3.88    2.29  0.63\n",
      "    Flavanoids:                   0.34  5.08    2.03  1.00\n",
      "    Nonflavanoid Phenols:         0.13  0.66    0.36  0.12\n",
      "    Proanthocyanins:              0.41  3.58    1.59  0.57\n",
      "    Colour Intensity:              1.3  13.0     5.1   2.3\n",
      "    Hue:                          0.48  1.71    0.96  0.23\n",
      "    OD280/OD315 of diluted wines: 1.27  4.00    2.61  0.71\n",
      "    Proline:                       278  1680     746   315\n",
      "    ============================= ==== ===== ======= =====\n",
      "\n",
      "    :Missing Attribute Values: None\n",
      "    :Class Distribution: class_0 (59), class_1 (71), class_2 (48)\n",
      "    :Creator: R.A. Fisher\n",
      "    :Donor: Michael Marshall (MARSHALL%PLU@io.arc.nasa.gov)\n",
      "    :Date: July, 1988\n",
      "\n",
      "This is a copy of UCI ML Wine recognition datasets.\n",
      "https://archive.ics.uci.edu/ml/machine-learning-databases/wine/wine.data\n",
      "\n",
      "The data is the results of a chemical analysis of wines grown in the same\n",
      "region in Italy by three different cultivators. There are thirteen different\n",
      "measurements taken for different constituents found in the three types of\n",
      "wine.\n",
      "\n",
      "Original Owners: \n",
      "\n",
      "Forina, M. et al, PARVUS - \n",
      "An Extendible Package for Data Exploration, Classification and Correlation. \n",
      "Institute of Pharmaceutical and Food Analysis and Technologies,\n",
      "Via Brigata Salerno, 16147 Genoa, Italy.\n",
      "\n",
      "Citation:\n",
      "\n",
      "Lichman, M. (2013). UCI Machine Learning Repository\n",
      "[https://archive.ics.uci.edu/ml]. Irvine, CA: University of California,\n",
      "School of Information and Computer Science. \n",
      "\n",
      ".. topic:: References\n",
      "\n",
      "  (1) S. Aeberhard, D. Coomans and O. de Vel, \n",
      "  Comparison of Classifiers in High Dimensional Settings, \n",
      "  Tech. Rep. no. 92-02, (1992), Dept. of Computer Science and Dept. of  \n",
      "  Mathematics and Statistics, James Cook University of North Queensland. \n",
      "  (Also submitted to Technometrics). \n",
      "\n",
      "  The data was used with many others for comparing various \n",
      "  classifiers. The classes are separable, though only RDA \n",
      "  has achieved 100% correct classification. \n",
      "  (RDA : 100%, QDA 99.4%, LDA 98.9%, 1NN 96.1% (z-transformed data)) \n",
      "  (All results using the leave-one-out technique) \n",
      "\n",
      "  (2) S. Aeberhard, D. Coomans and O. de Vel, \n",
      "  \"THE CLASSIFICATION PERFORMANCE OF RDA\" \n",
      "  Tech. Rep. no. 92-01, (1992), Dept. of Computer Science and Dept. of \n",
      "  Mathematics and Statistics, James Cook University of North Queensland. \n",
      "  (Also submitted to Journal of Chemometrics).\n",
      "\n"
     ]
    }
   ],
   "source": [
    "# print dataset information\n",
    "print(wine.DESCR)"
   ]
  },
  {
   "cell_type": "markdown",
   "id": "cb3f554b",
   "metadata": {},
   "source": [
    "+ This dataset has a sample size of 178\n",
    "+ There are 13 continuous numerical features containing information about the chemical profile of the wine \n",
    "+ There are three classes of wine, labelled from 0 to 2\n",
    "\n",
    "We are going to use the Random Forest Classifier as the model, which does not require feature scaling. First, we randomly split the dataset into training and test sets."
   ]
  },
  {
   "cell_type": "code",
   "execution_count": 10,
   "id": "a7e663e2",
   "metadata": {},
   "outputs": [],
   "source": [
    "# split into train and test dataset\n",
    "Xtrain, Xtest, ytrain, ytest = train_test_split(X, y, \n",
    "                                                test_size=0.4, \n",
    "                                                random_state=42, \n",
    "                                                stratify=y) # equal proportion of classes between two sets "
   ]
  },
  {
   "cell_type": "code",
   "execution_count": 11,
   "id": "90faf7c1",
   "metadata": {},
   "outputs": [
    {
     "data": {
      "text/plain": [
       "{'bootstrap': True,\n",
       " 'ccp_alpha': 0.0,\n",
       " 'class_weight': None,\n",
       " 'criterion': 'gini',\n",
       " 'max_depth': None,\n",
       " 'max_features': 'auto',\n",
       " 'max_leaf_nodes': None,\n",
       " 'max_samples': None,\n",
       " 'min_impurity_decrease': 0.0,\n",
       " 'min_samples_leaf': 1,\n",
       " 'min_samples_split': 2,\n",
       " 'min_weight_fraction_leaf': 0.0,\n",
       " 'n_estimators': 100,\n",
       " 'n_jobs': None,\n",
       " 'oob_score': True,\n",
       " 'random_state': 42,\n",
       " 'verbose': 0,\n",
       " 'warm_start': False}"
      ]
     },
     "execution_count": 11,
     "metadata": {},
     "output_type": "execute_result"
    }
   ],
   "source": [
    "# create model\n",
    "rf = RandomForestClassifier(oob_score=True, random_state=42)\n",
    "\n",
    "# show current parameters\n",
    "rf.get_params()"
   ]
  },
  {
   "cell_type": "markdown",
   "id": "f23c7a68",
   "metadata": {},
   "source": [
    "In Random Forest, the main parameters to validate are max_features, which determines the number of features to consider when looking for the best split, and n_estimators, which determines the number of trees in the forest.\n",
    "\n",
    "We will cross-validate these parameters along with the depth of the trees and the criterion for calculating impurity."
   ]
  },
  {
   "cell_type": "code",
   "execution_count": 12,
   "id": "b3cad7a9",
   "metadata": {
    "scrolled": false
   },
   "outputs": [
    {
     "name": "stdout",
     "output_type": "stream",
     "text": [
      "{'criterion': 'gini', 'max_depth': None, 'max_features': 'auto', 'n_estimators': 50}\n",
      "0.9904761904761905\n"
     ]
    }
   ],
   "source": [
    "# grid of parameter values to validate\n",
    "p_grid = [{'max_features': ['auto', 'log2'],\n",
    "           'n_estimators': [25, 50, 75, 100],\n",
    "           'max_depth' : [None, 4, 6, 8],\n",
    "           'criterion' : ['gini', 'entropy']}]\n",
    "\n",
    "# set up GridSearch\n",
    "optimal_params = GridSearchCV(rf, # estimator\n",
    "                              param_grid=p_grid, # parameters\n",
    "                              cv=5,\n",
    "                              scoring='accuracy')\n",
    "\n",
    "# train\n",
    "optimal_params.fit(Xtrain, ytrain)\n",
    "\n",
    "# get best parameters and score\n",
    "print(optimal_params.best_params_)\n",
    "print(optimal_params.best_score_)"
   ]
  },
  {
   "cell_type": "markdown",
   "id": "e5d80cc8",
   "metadata": {},
   "source": [
    "The Out-of-Bag score is an estimate of generalization capacity and a measure of the goodness of the model, calculated using Out-of-Bag samples."
   ]
  },
  {
   "cell_type": "code",
   "execution_count": 13,
   "id": "61208ee7",
   "metadata": {},
   "outputs": [
    {
     "data": {
      "text/plain": [
       "0.9811320754716981"
      ]
     },
     "execution_count": 13,
     "metadata": {},
     "output_type": "execute_result"
    }
   ],
   "source": [
    "# get validated model\n",
    "rf_val = optimal_params.best_estimator_\n",
    "\n",
    "# get out of bag score\n",
    "rf_val.oob_score_"
   ]
  },
  {
   "cell_type": "markdown",
   "id": "bfe6b091",
   "metadata": {},
   "source": [
    "Now that we have validated the model, we can train it, obtain predictions for the test set and compare predictions with true labels to evaluate its performance."
   ]
  },
  {
   "cell_type": "code",
   "execution_count": 14,
   "id": "07a4c369",
   "metadata": {},
   "outputs": [
    {
     "name": "stdout",
     "output_type": "stream",
     "text": [
      "              precision    recall  f1-score   support\n",
      "\n",
      "           0       0.96      1.00      0.98        24\n",
      "           1       1.00      0.97      0.98        29\n",
      "           2       1.00      1.00      1.00        19\n",
      "\n",
      "    accuracy                           0.99        72\n",
      "   macro avg       0.99      0.99      0.99        72\n",
      "weighted avg       0.99      0.99      0.99        72\n",
      "\n"
     ]
    }
   ],
   "source": [
    "# train model\n",
    "rf_val.fit(Xtrain, ytrain)\n",
    "\n",
    "# get predictions\n",
    "ypred = rf_val.predict(Xtest)\n",
    "\n",
    "# evaluate performance\n",
    "print(metrics.classification_report(ytest, ypred))"
   ]
  },
  {
   "cell_type": "code",
   "execution_count": 15,
   "id": "575b309e",
   "metadata": {
    "scrolled": true
   },
   "outputs": [
    {
     "data": {
      "text/plain": [
       "<sklearn.metrics._plot.confusion_matrix.ConfusionMatrixDisplay at 0x2a92d925700>"
      ]
     },
     "execution_count": 15,
     "metadata": {},
     "output_type": "execute_result"
    },
    {
     "data": {
      "image/png": "[encoded data removed]",
      "text/plain": [
       "<Figure size 432x288 with 2 Axes>"
      ]
     },
     "metadata": {
      "needs_background": "light"
     },
     "output_type": "display_data"
    }
   ],
   "source": [
    "# create a confusion matrix\n",
    "ConfusionMatrixDisplay.from_estimator(rf_val, \n",
    "                                      Xtest,\n",
    "                                      ytest,\n",
    "                                      display_labels=['Class_0', 'Class_1', 'Class_2'])"
   ]
  },
  {
   "cell_type": "markdown",
   "id": "44d08713",
   "metadata": {},
   "source": [
    "We can see from the confusion matrix that only one sample belonging to class_1 was mislabelled as class_0. This shows in the classification report, as the only class with perfect precision and recall is class_2, whereas precision for class_0 is less than 1 (there was one false positive) and recall for class_1 is less than 1 (there was one false negative). The F1 score is the harmonic mean of the precision and recall."
   ]
  },
  {
   "cell_type": "markdown",
   "id": "b43fe281",
   "metadata": {},
   "source": [
    "With Random Forest, we can also evaluate feature importance, which is calculated based on the impurity reduction of each feature and indicates the most important features for classification. "
   ]
  },
  {
   "cell_type": "code",
   "execution_count": 16,
   "id": "0a948331",
   "metadata": {},
   "outputs": [
    {
     "name": "stdout",
     "output_type": "stream",
     "text": [
      "alcohol: 15.9%\n",
      "malic_acid: 2.68%\n",
      "ash: 2.55%\n",
      "alcalinity_of_ash: 2.16%\n",
      "magnesium: 5.78%\n",
      "total_phenols: 1.84%\n",
      "flavanoids: 16.25%\n",
      "nonflavanoid_phenols: 1.14%\n",
      "proanthocyanins: 3.42%\n",
      "color_intensity: 15.32%\n",
      "hue: 9.97%\n",
      "od280/od315_of_diluted_wines: 7.73%\n",
      "proline: 15.24%\n"
     ]
    }
   ],
   "source": [
    "impo = np.round(rf_val.feature_importances_.reshape((13, 1)) * 100, decimals=2)\n",
    "\n",
    "for i in np.hstack((np.array(wine.feature_names).reshape((13, 1)), impo)):\n",
    "    print('{}: {}%'.format(i[0], i[1]))"
   ]
  },
  {
   "cell_type": "markdown",
   "id": "9823bc22",
   "metadata": {},
   "source": [
    "In this case, the most important features for classification were flavanoids, followed by alcohol, color intensity and proline."
   ]
  }
 ],
 "metadata": {
  "kernelspec": {
   "display_name": "Python 3 (ipykernel)",
   "language": "python",
   "name": "python3"
  },
  "language_info": {
   "codemirror_mode": {
    "name": "ipython",
    "version": 3
   },
   "file_extension": ".py",
   "mimetype": "text/x-python",
   "name": "python",
   "nbconvert_exporter": "python",
   "pygments_lexer": "ipython3",
   "version": "3.9.12"
  }
 },
 "nbformat": 4,
 "nbformat_minor": 5
}
